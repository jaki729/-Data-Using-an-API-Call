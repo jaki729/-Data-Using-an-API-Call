{
 "cells": [
  {
   "cell_type": "code",
   "execution_count": 1,
   "metadata": {},
   "outputs": [],
   "source": [
    "import pygal\n",
    "from pygal.style import LightColorizedStyle as LCS, LightenStyle as LS\n",
    "\n",
    "my_style = LS('#333366', base_style=LCS)\n",
    "chart = pygal.Bar(style=my_style, x_label_rotation=45, show_legend=False)\n",
    "\n",
    "chart.title = 'Python Projects'\n",
    "chart.x_labels = ['httpie', 'django', 'flask']\n",
    "\n",
    "plot_dicts = [\n",
    "    {'value': 16101, 'label': 'Description of httpie.'},\n",
    "    {'value': 15028, 'label': 'Description of django.'},\n",
    "    {'value': 14798, 'label': 'Description of flask.'},\n",
    "    ]\n",
    "\n",
    "chart.add('', plot_dicts)\n",
    "chart.render_to_file('bar_descriptions.svg')"
   ]
  },
  {
   "cell_type": "code",
   "execution_count": null,
   "metadata": {},
   "outputs": [],
   "source": []
  }
 ],
 "metadata": {
  "kernelspec": {
   "display_name": "Python 3",
   "language": "python",
   "name": "python3"
  },
  "language_info": {
   "codemirror_mode": {
    "name": "ipython",
    "version": 3
   },
   "file_extension": ".py",
   "mimetype": "text/x-python",
   "name": "python",
   "nbconvert_exporter": "python",
   "pygments_lexer": "ipython3",
   "version": "3.8.3"
  }
 },
 "nbformat": 4,
 "nbformat_minor": 4
}
